{
 "cells": [
  {
   "cell_type": "code",
   "execution_count": 11,
   "id": "b1cc441b",
   "metadata": {},
   "outputs": [],
   "source": [
    "import requests\n",
    "import json"
   ]
  },
  {
   "cell_type": "code",
   "execution_count": 15,
   "id": "b7ff112e",
   "metadata": {},
   "outputs": [
    {
     "name": "stdout",
     "output_type": "stream",
     "text": [
      "{'RESULT': 'OK', 'new_id': 101}\n"
     ]
    }
   ],
   "source": [
    "url = 'http://127.0.0.1:8000/create'\n",
    "response = requests.post(url, \n",
    "                         json = {'e_type' : \"user\",\n",
    "                                 'user_name' : \"main_name\",\n",
    "                                 'user_password' : \"main_password\",\n",
    "                                 'name_first' : \"main_fname\",\n",
    "                                 'name_last' : \"main_lname\"})\n",
    "if response.status_code == 200:\n",
    "    result = json.loads(response.text)\n",
    "    print(result)\n",
    "else:\n",
    "    print(response)"
   ]
  },
  {
   "cell_type": "code",
   "execution_count": 16,
   "id": "4abf8a0c",
   "metadata": {},
   "outputs": [
    {
     "name": "stdout",
     "output_type": "stream",
     "text": [
      "{'RESULT': 'OK', 'new_id': 101}\n"
     ]
    }
   ],
   "source": [
    "url = 'http://127.0.0.1:8000/create'\n",
    "response = requests.post(url, \n",
    "                         json = {'e_type' : \"product\",\n",
    "                                 'product_name' : \"main_product_name\",\n",
    "                                 'product_price' : 100,\n",
    "                                 'product_amount' : 40})\n",
    "if response.status_code == 200:\n",
    "    result = json.loads(response.text)\n",
    "    print(result)\n",
    "else:\n",
    "    print(response)"
   ]
  },
  {
   "cell_type": "code",
   "execution_count": 17,
   "id": "2ec8221a",
   "metadata": {},
   "outputs": [
    {
     "name": "stdout",
     "output_type": "stream",
     "text": [
      "{'RESULT': 'WRONG ETYPE'}\n"
     ]
    }
   ],
   "source": [
    "url = 'http://127.0.0.1:8000/create'\n",
    "response = requests.post(url, \n",
    "                         json = {'e_type' : \"prosdfaduct\",\n",
    "                                 'product_name' : \"main_product_name\",\n",
    "                                 'product_price' : 100,\n",
    "                                 'product_amount' : 40})\n",
    "if response.status_code == 200:\n",
    "    result = json.loads(response.text)\n",
    "    print(result)\n",
    "else:\n",
    "    print(response)"
   ]
  },
  {
   "cell_type": "code",
   "execution_count": null,
   "id": "fa361122",
   "metadata": {},
   "outputs": [],
   "source": []
  }
 ],
 "metadata": {
  "kernelspec": {
   "display_name": "Python 3 (ipykernel)",
   "language": "python",
   "name": "python3"
  },
  "language_info": {
   "codemirror_mode": {
    "name": "ipython",
    "version": 3
   },
   "file_extension": ".py",
   "mimetype": "text/x-python",
   "name": "python",
   "nbconvert_exporter": "python",
   "pygments_lexer": "ipython3",
   "version": "3.10.12"
  }
 },
 "nbformat": 4,
 "nbformat_minor": 5
}
